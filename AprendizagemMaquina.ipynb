{
 "cells": [
  {
   "cell_type": "markdown",
   "metadata": {},
   "source": [
    "# Aprendizagem de máquina e mineração de dados \n",
    "\n",
    "   **Implementação dos algoritmos da lista 1.** <br>\n",
    "   Aluno: Eduardo José Tomé de Macedo <br>\n",
    "   Professor: Adrião Duarte Dória Neto <br> \n",
    "\n",
    "   **Pacotes utilizados:**"
   ]
  },
  {
   "cell_type": "code",
   "execution_count": 1,
   "metadata": {},
   "outputs": [],
   "source": [
    "import numpy as np\n",
    "import matplotlib.pyplot as plt\n",
    "mcsize = 1000 # Número de pontos da simulação de monte carlo"
   ]
  },
  {
   "cell_type": "markdown",
   "metadata": {},
   "source": [
    "## Geração de números aleatórios\n",
    "\n",
    "   Para demonstrar uma forma de gerar números pseudo-aleatórios com métodos computacionais, será utilizado o método congruente linear para gerar algumas distribuições comumente utilizadas.\n",
    "\n",
    "### Função de geração \n",
    "\n",
    "   Os números pertencentes a $[0,1)$ serão gerados pelo método congruente linear, que é determinado pela seguinte formula recursiva:\n",
    "   \n",
    "   \\begin{equation}\n",
    "       x_n = ax_{n-1} + b \\mod m \n",
    "   \\end{equation}\n",
    "   \n",
    "   utilizando os parametros: <br>\n",
    "   $a = 7 ** 5$ <br>\n",
    "   $b = 0$ <br>\n",
    "   $m = 2^{31} - 1$"
   ]
  },
  {
   "cell_type": "code",
   "execution_count": 2,
   "metadata": {},
   "outputs": [
    {
     "name": "stdout",
     "output_type": "stream",
     "text": [
      "Histograma dos numeros aleatórios no intervalo de 0 a 100:\n"
     ]
    },
    {
     "data": {
      "text/plain": [
       "(array([ 89., 103., 105., 101.,  96., 102.,  99., 103., 116.,  86.]),\n",
       " array([ 0. ,  9.9, 19.8, 29.7, 39.6, 49.5, 59.4, 69.3, 79.2, 89.1, 99. ]),\n",
       " <a list of 10 Patch objects>)"
      ]
     },
     "execution_count": 2,
     "metadata": {},
     "output_type": "execute_result"
    },
    {
     "data": {
      "image/png": "[encoded data removed]",
      "text/plain": [
       "<matplotlib.figure.Figure at 0x7ff1d920c1d0>"
      ]
     },
     "metadata": {},
     "output_type": "display_data"
    }
   ],
   "source": [
    "seed = 0\n",
    "\n",
    "def sseed(x):\n",
    "    global seed\n",
    "    seed = x\n",
    "\n",
    "def random():\n",
    "    global seed\n",
    "    a = int(7 ** 5)\n",
    "    m = int(2 ** 31 - 1)\n",
    "    q = m // a\n",
    "    r = m % a\n",
    "    value = a * (seed % q) - r * (seed // q)\n",
    "    value += (m * (seed // q - a * seed // m))\n",
    "    seed = value\n",
    "    return value / (2 ** 31 - 1)\n",
    "\n",
    "sseed(16307)\n",
    "\n",
    "rands = [int(random() * 100) for x in range(1000)]\n",
    "arr = np.array(rands)\n",
    "print(\"Histograma dos numeros aleatórios no intervalo de 0 a 100:\")\n",
    "plt.hist(arr)"
   ]
  },
  {
   "cell_type": "markdown",
   "metadata": {},
   "source": [
    "### Geração de distribuições \n",
    "\n",
    "   Após criar um gerador de números aleatórios no intervalo de $[0, 1)$ deseja-se gerar diferentes distribuições tomando como base esses valores.\n",
    "\n",
    "### Distribuição exponencial\n",
    "\n",
    "   Uma variável aleatória X possui distribuição exponencial se sua f.d.p. for dada por:\n",
    "   \n",
    "   \\begin{equation}\n",
    "     f(x) = \\lambda e^{-\\lambda x}\n",
    "   \\end{equation}\n",
    "   \n",
    "   Em que $\\lambda$ é o número médio de ocorrências por unidade de tempo.\n",
    "   \n",
    "   Para gerar essa distribuição a seguinte fórmula pode ser utilizada:\n",
    "   \n",
    "   \\begin{equation}\n",
    "       X = -\\lambda \\ln{1 - R}\n",
    "   \\end{equation}"
   ]
  },
  {
   "cell_type": "code",
   "execution_count": 3,
   "metadata": {},
   "outputs": [
    {
     "name": "stdout",
     "output_type": "stream",
     "text": [
      "Histograma para a distribuição exponencial no intervalo de 0 a 100:\n"
     ]
    },
    {
     "data": {
      "text/plain": [
       "(array([436., 205., 149.,  88.,  51.,  33.,  14.,  14.,   3.,   7.]),\n",
       " array([  0. ,  16.2,  32.4,  48.6,  64.8,  81. ,  97.2, 113.4, 129.6,\n",
       "        145.8, 162. ]),\n",
       " <a list of 10 Patch objects>)"
      ]
     },
     "execution_count": 3,
     "metadata": {},
     "output_type": "execute_result"
    },
    {
     "data": {
      "image/png": "[encoded data removed]",
      "text/plain": [
       "<matplotlib.figure.Figure at 0x7ff1d0cb4390>"
      ]
     },
     "metadata": {},
     "output_type": "display_data"
    }
   ],
   "source": [
    "def rexp(lbda):\n",
    "    return -lbda * np.log(random())\n",
    "\n",
    "rexps = [int(rexp(0.3) * 100) for x in range(1000)]\n",
    "print(\"Histograma para a distribuição exponencial no intervalo de 0 a 100:\")\n",
    "exparr = np.array(rexps)\n",
    "plt.hist(exparr)"
   ]
  },
  {
   "cell_type": "markdown",
   "metadata": {},
   "source": [
    "### Distribuição Gaussiana\n",
    "\n",
    "Uma variavel aleatória X possui distribuição gaussiana representada por $X \\sim N(\\mu, \\sigma^2)$ se sua f.d.p. for dada por:\n",
    "\n",
    "\\begin{equation}\n",
    "    f(x) = \\frac{1}{\\sigma \\sqrt{2\\pi}}e^{\\frac{-(x-\\mu)^2}{2\\sigma^2}} ,  -\\infty < x < \\infty\n",
    "\\end{equation}\n",
    "\n",
    "Onde $\\mu$ é a média e $\\sigma$ o desvio-padrão da população.\n",
    "\n",
    "O método utilizado para gerar essa distribuição, baseado no Método de Box-Muller é mostrado abaixo:"
   ]
  },
  {
   "cell_type": "code",
   "execution_count": 4,
   "metadata": {},
   "outputs": [
    {
     "name": "stdout",
     "output_type": "stream",
     "text": [
      "Distribuição de probabilidade normal:\n"
     ]
    },
    {
     "data": {
      "text/plain": [
       "(array([  7.,  31.,  65., 148., 209., 225., 181.,  94.,  28.,  12.]),\n",
       " array([-3.02964104, -2.43703839, -1.84443573, -1.25183308, -0.65923042,\n",
       "        -0.06662777,  0.52597488,  1.11857754,  1.71118019,  2.30378284,\n",
       "         2.8963855 ]),\n",
       " <a list of 10 Patch objects>)"
      ]
     },
     "execution_count": 4,
     "metadata": {},
     "output_type": "execute_result"
    },
    {
     "data": {
      "image/png": "[encoded data removed]",
      "text/plain": [
       "<matplotlib.figure.Figure at 0x7ff1d0c69fd0>"
      ]
     },
     "metadata": {},
     "output_type": "display_data"
    }
   ],
   "source": [
    "def normal(mi=0, sigma=1):\n",
    "    return mi + sigma * np.sqrt(-2 * np.log(random())) * np.cos(2 * np.pi * random())\n",
    "\n",
    "print(\"Distribuição de probabilidade normal:\")\n",
    "norms = [normal() for i in range(1000)]\n",
    "normarr = np.array(norms)\n",
    "plt.hist(normarr)"
   ]
  },
  {
   "cell_type": "markdown",
   "metadata": {},
   "source": [
    "### Distribuição t-student\n",
    "\n",
    "   A distribuição t-student é uma aproximação da distribuição gaussiana para amostras pequenas de uma população, assumida como aproximadamente normal, cujos paramêtros (média e variância) não sejam conhecidos. A aproximação é feita então pelo cálculo de $\\bar{X}$ e $\\hat{s}$ da amostra obtida.\n",
    "\n",
    "   Uma variável aleatória X possui distribuição t-student caso sua f.d.p. seja dada por:\n",
    "   \n",
    "   \\begin{equation}\n",
    "       f(x) = \\frac{\\Gamma(\\frac{\\upsilon+1}{2})}{\\sqrt{\\upsilon\\pi} \\Gamma(\\frac{\\upsilon}{2})} (1 + \\frac{x^2}{\\upsilon})^{\\frac{\\upsilon + 1}{2}}\n",
    "   \\end{equation}\n",
    "   \n",
    "   Onde $\\upsilon$ é o grau de liberdade e $\\Gamma$ a função Gamma.\n",
    "   \n",
    "   Para gerar esta distribuição, a seguinte formula pode ser utilizada:\n",
    "   \n",
    "   \\begin{equation}\n",
    "       T = \\frac{X_{k+1}}{\\sqrt{k^{-1} \\sum\\limits_{i=0}^k{X_i^2}}}\n",
    "   \\end{equation}\n",
    "   \n",
    "   Onde $X_i$ é uma váriavel i.i.d. com $X \\sim N(0,1)$ e k é o grau de liberdade.\n",
    "  "
   ]
  },
  {
   "cell_type": "code",
   "execution_count": 5,
   "metadata": {},
   "outputs": [
    {
     "name": "stdout",
     "output_type": "stream",
     "text": [
      "Distribuição de probabilidade t-student:\n"
     ]
    },
    {
     "data": {
      "text/plain": [
       "(array([ 1.,  3.,  8.,  7., 15., 22., 17., 14.,  8.,  5.]),\n",
       " array([-2.67109561, -2.19800243, -1.72490925, -1.25181606, -0.77872288,\n",
       "        -0.30562969,  0.16746349,  0.64055668,  1.11364986,  1.58674304,\n",
       "         2.05983623]),\n",
       " <a list of 10 Patch objects>)"
      ]
     },
     "execution_count": 5,
     "metadata": {},
     "output_type": "execute_result"
    },
    {
     "data": {
      "image/png": "[encoded data removed]",
      "text/plain": [
       "<matplotlib.figure.Figure at 0x7ff1d94a08d0>"
      ]
     },
     "metadata": {},
     "output_type": "display_data"
    }
   ],
   "source": [
    "def tstudent(gl):\n",
    "    num = normal()\n",
    "    norms = [normal() for i in range(gl+1)]\n",
    "    denarr = np.array(norms)\n",
    "    den = np.sqrt(np.sum(denarr ** 2)/gl)\n",
    "    return num / den\n",
    "\n",
    "print(\"Distribuição de probabilidade t-student:\")\n",
    "tts = [tstudent(5) for i in range(100)]\n",
    "tstdarr = np.array(tts)\n",
    "plt.hist(tstdarr)"
   ]
  },
  {
   "cell_type": "markdown",
   "metadata": {},
   "source": [
    "### Distribuição Qui-Quadrado\n",
    "\n",
    "   Uma variável aleatória X possui distribuição Qui-Quadrado, representada por $X \\sim \\chi^2(\\upsilon)$, quando sua f.d.p. é dada por:\n",
    "   \n",
    "   \\begin{equation}\n",
    "       f(x; \\upsilon) = \\frac{1}{2^{\\upsilon/2} \\Gamma(\\upsilon/2)} x^{(\\upsilon/2)-1} e^{-x/2}\n",
    "   \\end{equation}\n",
    "   \n",
    "   Onde $\\upsilon$ é o grau de liberdade"
   ]
  },
  {
   "cell_type": "markdown",
   "metadata": {},
   "source": [
    "## Simulações de Monte Carlo\n",
    "\n",
    "   A simulação de monte carlo se baseia no fato de uma experança de uma função $h(X)$ de uma v.a. X, ser definida como:\n",
    "   \\begin{equation}\n",
    "       E[h(x)] = \\int_l^h{h(x)p(x)dx}\n",
    "   \\end{equation}\n",
    "\n",
    "   Com $h(X)$ sendo a função da variavel aleatória e $p(X)$ sendo a distribuição de probabilidade.\n",
    "   \n",
    "   Então pode-se calcular a integral da função $h(X)$ através do valor estimado de sua média $\\hat{X}$ para uma amostra grande de $X$, substituindo a função de probabilidade por $p(X) = 1$ com $X \\sim U(l, h)$.\n",
    "   \n",
    "## Exemplos\n",
    "\n",
    "### Simulação de monte carlo para:\n",
    "\n",
    "   \\begin{equation}\n",
    "    I = \\frac{1}{2\\pi}\\int_0^2{e^\\frac{-x^2}{2}dx}\n",
    "   \\end{equation}"
   ]
  },
  {
   "cell_type": "code",
   "execution_count": 6,
   "metadata": {},
   "outputs": [
    {
     "data": {
      "image/png": "[encoded data removed]",
      "text/plain": [
       "<matplotlib.figure.Figure at 0x7ff1d0b010b8>"
      ]
     },
     "metadata": {},
     "output_type": "display_data"
    },
    {
     "name": "stdout",
     "output_type": "stream",
     "text": [
      "Resultado da Integração: 0.37882391860532605\n"
     ]
    }
   ],
   "source": [
    "# Simulação de monte carlo para f(x) = 1/2*pi int_0^2{e^x/2}\n",
    "\n",
    "x = np.random.uniform(low=0, high=2, size=mcsize)  # Gera valores aleatórios no periodo de integração\n",
    "y = 1.0 / (2.0 * np.pi) * np.exp((x ** 2)/ 2, dtype='float64')\n",
    "result = np.mean(y)\n",
    "plt.stem(x, y)\n",
    "plt.show()\n",
    "print(\"Resultado da Integração:\",result)"
   ]
  },
  {
   "cell_type": "markdown",
   "metadata": {},
   "source": [
    "### Simulação de monte carlo para:\n",
    "\n",
    "   \\begin{equation}\n",
    "        I = \\int_0^1{\\int_0^1{e^{-(x^2+y^2)}dx}dy}\n",
    "   \\end{equation}"
   ]
  },
  {
   "cell_type": "code",
   "execution_count": 7,
   "metadata": {},
   "outputs": [
    {
     "name": "stdout",
     "output_type": "stream",
     "text": [
      "Resultado da integração: 0.18019347702762867\n"
     ]
    }
   ],
   "source": [
    "x2 = np.random.uniform(low=0, high=2, size=(2, mcsize))\n",
    "values = np.exp(-(x2[0] ** 2 + x2[1] ** 2))\n",
    "result = np.mean(values)\n",
    "print(\"Resultado da integração:\", result)"
   ]
  },
  {
   "cell_type": "markdown",
   "metadata": {},
   "source": [
    "## Algoritmo Bayes Ingênuo\n",
    "\n",
    "   O algoritmo Naive-Bayes tenta combater a necessidade de muitas informações em problemas de classificação com muitas dimensões. Para isso o algoritmo assume indepêndencia entre as características do vetor a ser analizado, tratando o problema como N problemas de 1 dimensão.\n",
    "   \n",
    "   O algoritmo se baseia na seguinte fórmula:\n",
    "   \n",
    "   \\begin{equation}\n",
    "       p(x \\mid \\omega_i) = \\prod \\limits_{j=1}^l p(x_j \\mid \\omega_i) , i = 1, 2, 3, ..., M\n",
    "   \\end{equation}\n",
    "   \n",
    "   Onde $M$ é o número de classes e $l$ o número de características."
   ]
  },
  {
   "cell_type": "code",
   "execution_count": 19,
   "metadata": {},
   "outputs": [
    {
     "name": "stdout",
     "output_type": "stream",
     "text": [
      "Valores de treinamento do Naive-Bayes:\n"
     ]
    },
    {
     "data": {
      "text/html": [
       "<div>\n",
       "<style scoped>\n",
       "    .dataframe tbody tr th:only-of-type {\n",
       "        vertical-align: middle;\n",
       "    }\n",
       "\n",
       "    .dataframe tbody tr th {\n",
       "        vertical-align: top;\n",
       "    }\n",
       "\n",
       "    .dataframe thead th {\n",
       "        text-align: right;\n",
       "    }\n",
       "</style>\n",
       "<table border=\"1\" class=\"dataframe\">\n",
       "  <thead>\n",
       "    <tr style=\"text-align: right;\">\n",
       "      <th></th>\n",
       "      <th>Casa Propria</th>\n",
       "      <th>Estado Civil</th>\n",
       "      <th>Mau Pagador</th>\n",
       "      <th>Rendimento</th>\n",
       "    </tr>\n",
       "  </thead>\n",
       "  <tbody>\n",
       "    <tr>\n",
       "      <th>0</th>\n",
       "      <td>Sim</td>\n",
       "      <td>Solteiro</td>\n",
       "      <td>Nao</td>\n",
       "      <td>Alto</td>\n",
       "    </tr>\n",
       "    <tr>\n",
       "      <th>1</th>\n",
       "      <td>Nao</td>\n",
       "      <td>Casado</td>\n",
       "      <td>Nao</td>\n",
       "      <td>Medio</td>\n",
       "    </tr>\n",
       "    <tr>\n",
       "      <th>2</th>\n",
       "      <td>Sim</td>\n",
       "      <td>Solteiro</td>\n",
       "      <td>Nao</td>\n",
       "      <td>Baixo</td>\n",
       "    </tr>\n",
       "    <tr>\n",
       "      <th>3</th>\n",
       "      <td>Sim</td>\n",
       "      <td>Casado</td>\n",
       "      <td>Nao</td>\n",
       "      <td>Alto</td>\n",
       "    </tr>\n",
       "    <tr>\n",
       "      <th>4</th>\n",
       "      <td>Nao</td>\n",
       "      <td>Divorciado</td>\n",
       "      <td>Sim</td>\n",
       "      <td>Medio</td>\n",
       "    </tr>\n",
       "    <tr>\n",
       "      <th>5</th>\n",
       "      <td>Nao</td>\n",
       "      <td>Casado</td>\n",
       "      <td>Nao</td>\n",
       "      <td>Baixo</td>\n",
       "    </tr>\n",
       "    <tr>\n",
       "      <th>6</th>\n",
       "      <td>Sim</td>\n",
       "      <td>Divorciado</td>\n",
       "      <td>Nao</td>\n",
       "      <td>Alto</td>\n",
       "    </tr>\n",
       "    <tr>\n",
       "      <th>7</th>\n",
       "      <td>Nao</td>\n",
       "      <td>Solteiro</td>\n",
       "      <td>Sim</td>\n",
       "      <td>Medio</td>\n",
       "    </tr>\n",
       "    <tr>\n",
       "      <th>8</th>\n",
       "      <td>Nao</td>\n",
       "      <td>Casado</td>\n",
       "      <td>Nao</td>\n",
       "      <td>Baixo</td>\n",
       "    </tr>\n",
       "    <tr>\n",
       "      <th>9</th>\n",
       "      <td>Nao</td>\n",
       "      <td>Solteiro</td>\n",
       "      <td>Sim</td>\n",
       "      <td>Medio</td>\n",
       "    </tr>\n",
       "    <tr>\n",
       "      <th>10</th>\n",
       "      <td>Nao</td>\n",
       "      <td>Divorciado</td>\n",
       "      <td>NaN</td>\n",
       "      <td>Medio</td>\n",
       "    </tr>\n",
       "  </tbody>\n",
       "</table>\n",
       "</div>"
      ],
      "text/plain": [
       "   Casa Propria Estado Civil Mau Pagador Rendimento\n",
       "0           Sim     Solteiro         Nao       Alto\n",
       "1           Nao       Casado         Nao      Medio\n",
       "2           Sim     Solteiro         Nao      Baixo\n",
       "3           Sim       Casado         Nao       Alto\n",
       "4           Nao   Divorciado         Sim      Medio\n",
       "5           Nao       Casado         Nao      Baixo\n",
       "6           Sim   Divorciado         Nao       Alto\n",
       "7           Nao     Solteiro         Sim      Medio\n",
       "8           Nao       Casado         Nao      Baixo\n",
       "9           Nao     Solteiro         Sim      Medio\n",
       "10          Nao   Divorciado         NaN      Medio"
      ]
     },
     "execution_count": 19,
     "metadata": {},
     "output_type": "execute_result"
    }
   ],
   "source": [
    "import pandas as pd\n",
    "\n",
    "data = [{\"Casa Propria\": \"Sim\", \"Estado Civil\": \"Solteiro\", \"Rendimento\": \"Alto\", \"Mau Pagador\": \"Nao\"},\n",
    "        {\"Casa Propria\": \"Nao\", \"Estado Civil\": \"Casado\", \"Rendimento\": \"Medio\", \"Mau Pagador\": \"Nao\"},\n",
    "        {\"Casa Propria\": \"Sim\", \"Estado Civil\": \"Solteiro\", \"Rendimento\": \"Baixo\", \"Mau Pagador\": \"Nao\"},\n",
    "        {\"Casa Propria\": \"Sim\", \"Estado Civil\": \"Casado\", \"Rendimento\": \"Alto\", \"Mau Pagador\": \"Nao\"},\n",
    "        {\"Casa Propria\": \"Nao\", \"Estado Civil\": \"Divorciado\", \"Rendimento\": \"Medio\", \"Mau Pagador\": \"Sim\"},\n",
    "        {\"Casa Propria\": \"Nao\", \"Estado Civil\": \"Casado\", \"Rendimento\": \"Baixo\", \"Mau Pagador\": \"Nao\"},\n",
    "        {\"Casa Propria\": \"Sim\", \"Estado Civil\": \"Divorciado\", \"Rendimento\": \"Alto\", \"Mau Pagador\": \"Nao\"},\n",
    "        {\"Casa Propria\": \"Nao\", \"Estado Civil\": \"Solteiro\", \"Rendimento\": \"Medio\", \"Mau Pagador\": \"Sim\"},\n",
    "        {\"Casa Propria\": \"Nao\", \"Estado Civil\": \"Casado\", \"Rendimento\": \"Baixo\", \"Mau Pagador\": \"Nao\"},\n",
    "        {\"Casa Propria\": \"Nao\", \"Estado Civil\": \"Solteiro\", \"Rendimento\": \"Medio\", \"Mau Pagador\": \"Sim\"},\n",
    "        {\"Casa Propria\": \"Nao\", \"Estado Civil\": \"Divorciado\", \"Rendimento\": \"Medio\"}]\n",
    "\n",
    "print(\"Valores de treinamento do Naive-Bayes:\")\n",
    "frame = pd.DataFrame(data)\n",
    "frame"
   ]
  },
  {
   "cell_type": "code",
   "execution_count": 18,
   "metadata": {},
   "outputs": [
    {
     "name": "stdout",
     "output_type": "stream",
     "text": [
      "Valores de teste do Naive-Bayes:\n"
     ]
    },
    {
     "data": {
      "text/html": [
       "<div>\n",
       "<style scoped>\n",
       "    .dataframe tbody tr th:only-of-type {\n",
       "        vertical-align: middle;\n",
       "    }\n",
       "\n",
       "    .dataframe tbody tr th {\n",
       "        vertical-align: top;\n",
       "    }\n",
       "\n",
       "    .dataframe thead th {\n",
       "        text-align: right;\n",
       "    }\n",
       "</style>\n",
       "<table border=\"1\" class=\"dataframe\">\n",
       "  <thead>\n",
       "    <tr style=\"text-align: right;\">\n",
       "      <th></th>\n",
       "      <th>Casa Propria</th>\n",
       "      <th>Estado Civil</th>\n",
       "      <th>Mau Pagador</th>\n",
       "      <th>Rendimento</th>\n",
       "    </tr>\n",
       "  </thead>\n",
       "  <tbody>\n",
       "    <tr>\n",
       "      <th>0</th>\n",
       "      <td>Nao</td>\n",
       "      <td>Casado</td>\n",
       "      <td>Nao</td>\n",
       "      <td>Alto</td>\n",
       "    </tr>\n",
       "    <tr>\n",
       "      <th>1</th>\n",
       "      <td>Sim</td>\n",
       "      <td>Solteiro</td>\n",
       "      <td>Nao</td>\n",
       "      <td>Medio</td>\n",
       "    </tr>\n",
       "    <tr>\n",
       "      <th>2</th>\n",
       "      <td>Nao</td>\n",
       "      <td>Divorciado</td>\n",
       "      <td>Nao</td>\n",
       "      <td>Baixo</td>\n",
       "    </tr>\n",
       "    <tr>\n",
       "      <th>3</th>\n",
       "      <td>Sim</td>\n",
       "      <td>Divorciado</td>\n",
       "      <td>Sim</td>\n",
       "      <td>Alto</td>\n",
       "    </tr>\n",
       "    <tr>\n",
       "      <th>4</th>\n",
       "      <td>Nao</td>\n",
       "      <td>Casado</td>\n",
       "      <td>Nao</td>\n",
       "      <td>Medio</td>\n",
       "    </tr>\n",
       "  </tbody>\n",
       "</table>\n",
       "</div>"
      ],
      "text/plain": [
       "  Casa Propria Estado Civil Mau Pagador Rendimento\n",
       "0          Nao       Casado         Nao       Alto\n",
       "1          Sim     Solteiro         Nao      Medio\n",
       "2          Nao   Divorciado         Nao      Baixo\n",
       "3          Sim   Divorciado         Sim       Alto\n",
       "4          Nao       Casado         Nao      Medio"
      ]
     },
     "execution_count": 18,
     "metadata": {},
     "output_type": "execute_result"
    }
   ],
   "source": [
    "test = [{\"Casa Propria\": \"Nao\", \"Estado Civil\": \"Casado\", \"Rendimento\": \"Alto\", \"Mau Pagador\": \"Nao\"},\n",
    "        {\"Casa Propria\": \"Sim\", \"Estado Civil\": \"Solteiro\", \"Rendimento\": \"Medio\", \"Mau Pagador\": \"Nao\"},\n",
    "        {\"Casa Propria\": \"Nao\", \"Estado Civil\": \"Divorciado\", \"Rendimento\": \"Baixo\", \"Mau Pagador\": \"Nao\"},\n",
    "        {\"Casa Propria\": \"Sim\", \"Estado Civil\": \"Divorciado\", \"Rendimento\": \"Alto\", \"Mau Pagador\": \"Sim\"},\n",
    "        {\"Casa Propria\": \"Nao\", \"Estado Civil\": \"Casado\", \"Rendimento\": \"Medio\", \"Mau Pagador\": \"Nao\"}]\n",
    "\n",
    "print(\"Valores de teste do Naive-Bayes:\")\n",
    "testframe = pd.DataFrame(test)\n",
    "testframe"
   ]
  },
  {
   "cell_type": "code",
   "execution_count": 22,
   "metadata": {},
   "outputs": [
    {
     "name": "stdout",
     "output_type": "stream",
     "text": [
      "Probabilidades a posteriori dos valores de teste:\n",
      "\n",
      "0.044177310293012764\n",
      "0.04207362885048835\n",
      "0.03313298271975957\n",
      "0.008114199849737038\n",
      "0.07362885048835462\n"
     ]
    }
   ],
   "source": [
    "def calc_priori_prob(dataset):\n",
    "    probs = {}\n",
    "    for column in dataset.columns.values:\n",
    "        probseries = frame[column].value_counts() / frame[column].count()\n",
    "        probs[column] = probseries\n",
    "    return probs    \n",
    "\n",
    "def naive_bayes(x, dataprob):\n",
    "    \"\"\"\n",
    "    Calcula a probabilidade a posteriori de um vetor dada a classe descrita pelas probabilidades do conjunto de valores\n",
    "    possíveis para cada caracteristica do vetor. Assume que as caracteristicas são independentes entre si.\n",
    "    \"\"\"\n",
    "    result = 1\n",
    "    for characteristic in x:\n",
    "        result *= dataprob[characteristic].loc[x[characteristic]]\n",
    "    return result\n",
    "\n",
    "print(\"Probabilidades a posteriori dos valores de teste:\\n\")\n",
    "result = calc_priori_prob(frame)\n",
    "for vetor in testframe.to_dict('records'):\n",
    "    post = naive_bayes(vetor, result)\n",
    "    print(post)"
   ]
  },
  {
   "cell_type": "code",
   "execution_count": null,
   "metadata": {},
   "outputs": [],
   "source": []
  }
 ],
 "metadata": {
  "kernelspec": {
   "display_name": "Python 3",
   "language": "python",
   "name": "python3"
  },
  "language_info": {
   "codemirror_mode": {
    "name": "ipython",
    "version": 3
   },
   "file_extension": ".py",
   "mimetype": "text/x-python",
   "name": "python",
   "nbconvert_exporter": "python",
   "pygments_lexer": "ipython3",
   "version": "3.6.4"
  }
 },
 "nbformat": 4,
 "nbformat_minor": 2
}
